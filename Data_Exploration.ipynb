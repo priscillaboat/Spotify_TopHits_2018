{
  "nbformat": 4,
  "nbformat_minor": 0,
  "metadata": {
    "colab": {
      "name": "Data-Exploration.ipynb",
      "provenance": [],
      "collapsed_sections": [],
      "include_colab_link": true
    },
    "kernelspec": {
      "name": "python3",
      "display_name": "Python 3"
    }
  },
  "cells": [
    {
      "cell_type": "markdown",
      "metadata": {
        "id": "view-in-github",
        "colab_type": "text"
      },
      "source": [
        "<a href=\"https://colab.research.google.com/github/priscillaboat/priscillaboat/blob/master/Data_Exploration.ipynb\" target=\"_parent\"><img src=\"https://colab.research.google.com/assets/colab-badge.svg\" alt=\"Open In Colab\"/></a>"
      ]
    },
    {
      "cell_type": "code",
      "metadata": {
        "id": "TWpsImEDwsRy",
        "colab_type": "code",
        "outputId": "333b710c-1b13-4668-8397-7452897470ca",
        "colab": {
          "resources": {
            "http://localhost:8080/nbextensions/google.colab/files.js": {
              "data": "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",
              "ok": true,
              "headers": [
                [
                  "content-type",
                  "application/javascript"
                ]
              ],
              "status": 200,
              "status_text": ""
            }
          },
          "base_uri": "https://localhost:8080/",
          "height": 98
        }
      },
      "source": [
        "from google.colab import files\n",
        "uploaded = files.upload()"
      ],
      "execution_count": 0,
      "outputs": [
        {
          "output_type": "display_data",
          "data": {
            "text/html": [
              "\n",
              "     <input type=\"file\" id=\"files-b1f4effe-bb25-45f8-9bde-cc351f976f8b\" name=\"files[]\" multiple disabled />\n",
              "     <output id=\"result-b1f4effe-bb25-45f8-9bde-cc351f976f8b\">\n",
              "      Upload widget is only available when the cell has been executed in the\n",
              "      current browser session. Please rerun this cell to enable.\n",
              "      </output>\n",
              "      <script src=\"/nbextensions/google.colab/files.js\"></script> "
            ],
            "text/plain": [
              "<IPython.core.display.HTML object>"
            ]
          },
          "metadata": {
            "tags": []
          }
        },
        {
          "output_type": "stream",
          "text": [
            "Saving top2018.csv to top2018.csv\n"
          ],
          "name": "stdout"
        },
        {
          "output_type": "display_data",
          "data": {
            "text/html": [
              "\n",
              "     <input type=\"file\" id=\"files-36ee9517-22fa-4991-8f8e-821438ab7ea1\" name=\"files[]\" multiple disabled />\n",
              "     <output id=\"result-36ee9517-22fa-4991-8f8e-821438ab7ea1\">\n",
              "      Upload widget is only available when the cell has been executed in the\n",
              "      current browser session. Please rerun this cell to enable.\n",
              "      </output>\n",
              "      <script src=\"/nbextensions/google.colab/files.js\"></script> "
            ],
            "text/plain": [
              "<IPython.core.display.HTML object>"
            ]
          },
          "metadata": {
            "tags": []
          }
        }
      ]
    },
    {
      "cell_type": "code",
      "metadata": {
        "id": "C6FIBeKZ0aCP",
        "colab_type": "code",
        "colab": {}
      },
      "source": [
        "import scipy as sp\n",
        "import numpy as np\n",
        "import matplotlib\n",
        "from matplotlib import pyplot as plt\n",
        "import pandas as pd\n",
        "import sklearn\n",
        "from sklearn.model_selection import train_test_split\n",
        "from sklearn.linear_model import LinearRegression\n",
        "from sklearn.feature_selection import f_regression\n",
        "from sklearn.metrics import mean_absolute_error\n",
        "from sklearn.metrics import mean_squared_error\n",
        "import math\n",
        "import seaborn\n",
        "import warnings\n",
        "warnings.filterwarnings(\"ignore\")\n",
        "import seaborn as seabornInstance \n",
        "from sklearn import metrics\n",
        "%matplotlib inline"
      ],
      "execution_count": 0,
      "outputs": []
    },
    {
      "cell_type": "markdown",
      "metadata": {
        "id": "M4YGz9AHTsG9",
        "colab_type": "text"
      },
      "source": [
        "# R-squared and Adjusted R-squared Test\n"
      ]
    },
    {
      "cell_type": "markdown",
      "metadata": {
        "id": "e8WLGgalWUx6",
        "colab_type": "text"
      },
      "source": [
        "R squared and Adjusted R squared show differnet things. In general, R-sqaured is a measure of fit. It is a measure in statistics which measures how close the data fits the regression line. The issue is that R-sqaured tends to be easy to overfit the data. Thus we also use adjusted R-squared. This increases if and only if the new added predictor variable improved the model more than it would due to chance. We ca see the differences below\n"
      ]
    },
    {
      "cell_type": "code",
      "metadata": {
        "id": "YRmH5KGa0tVG",
        "colab_type": "code",
        "outputId": "5c1d4969-dcd9-4eec-9cb2-e0b3b7014041",
        "colab": {
          "base_uri": "https://localhost:8080/",
          "height": 51
        }
      },
      "source": [
        "#reading in data \n",
        "data = pd.read_csv(\"top2018.csv\")\n",
        "#add populaity column\n",
        "pop= list(range(1, 101))\n",
        "data['popularity'] = pop\n",
        "#split into X and Y\n",
        "X = data.iloc[:,3:16]\n",
        "y = data.iloc[:,16:]\n",
        "\n",
        "#from sklearn\n",
        "model = LinearRegression()\n",
        "model.fit(X, y)\n",
        "R = model.score(X, y)\n",
        "aR = 1 - (1-model.score(X, y))*(len(y)-1)/(len(y)-X.shape[1]-1)\n",
        "print(\"R-squared w loudness + duration: \" + str(R)) #gives us the r squared using sklearn\n",
        "print(\"R-squared adjusted w loudness + duration: \" + str(aR))"
      ],
      "execution_count": 0,
      "outputs": [
        {
          "output_type": "stream",
          "text": [
            "R-squared w loudness+ duration: 0.16381516680610708\n",
            "R-squared adjusted w loudness + duration: 0.03741513388144879\n"
          ],
          "name": "stdout"
        }
      ]
    },
    {
      "cell_type": "code",
      "metadata": {
        "id": "ndFx6RepYmMK",
        "colab_type": "code",
        "outputId": "c8c50534-1d54-4108-8f15-6cc3f8966fd4",
        "colab": {
          "base_uri": "https://localhost:8080/",
          "height": 51
        }
      },
      "source": [
        "#repeat with all variables removing duration \n",
        "data2 = data.drop(columns=['duration_ms'])\n",
        "X2 = data2.iloc[:100,3:15]\n",
        "y2 = data2.iloc[:100,15:]\n",
        "\n",
        "model2 = LinearRegression()\n",
        "model2.fit(X2, y2)\n",
        "R2 = model2.score(X2, y2)\n",
        "aR2 = 1 - (1-model2.score(X2, y2))*(len(y2)-1)/(len(y2)-X2.shape[1]-1)\n",
        "print(\"R-squared w/ loudness: \" + str(R2))\n",
        "print(\"R-squared adjusted w/ loudness: \" + str(aR2))"
      ],
      "execution_count": 0,
      "outputs": [
        {
          "output_type": "stream",
          "text": [
            "R-squared w/ loudness: 0.1636180115823238\n",
            "R-squared adjusted w/ loudness: 0.04825497869712703\n"
          ],
          "name": "stdout"
        }
      ]
    },
    {
      "cell_type": "code",
      "metadata": {
        "id": "rRSde80FSfCD",
        "colab_type": "code",
        "outputId": "c60c4915-1df1-4728-c45a-07b181e767b0",
        "colab": {
          "base_uri": "https://localhost:8080/",
          "height": 51
        }
      },
      "source": [
        "#repeat with also removing loudness \n",
        "data3 = data.drop(columns=['loudness'])\n",
        "X3 = data3.iloc[:,3:14]\n",
        "y3 = data3.iloc[:,14:]\n",
        "\n",
        "model3 = LinearRegression()\n",
        "model3.fit(X3, y3)\n",
        "R3 = model3.score(X3, y3)\n",
        "aR3 = 1 - (1-model3.score(X3, y3))*(len(y3)-1)/(len(y3)-X3.shape[1]-1)\n",
        "print(\"R-squared w/o loudness/duration: \" + str(R3))\n",
        "print(\"R-squared adjusted w/o loudness/duration: \" + str(aR3))\n",
        "#we can see pattern in increasing r squared adjusted while decreasing r-squared as we remove parameters "
      ],
      "execution_count": 0,
      "outputs": [
        {
          "output_type": "stream",
          "text": [
            "R-squared w/o loudness/duration: 0.1635901836136768\n",
            "R-squared adjusted w/o loudness/duration: 0.05903895656538649\n"
          ],
          "name": "stdout"
        }
      ]
    },
    {
      "cell_type": "markdown",
      "metadata": {
        "id": "nsUffQRvULnA",
        "colab_type": "text"
      },
      "source": [
        "**Visualizing Difference Between R-sqaured and Adjusted R-squared**"
      ]
    },
    {
      "cell_type": "markdown",
      "metadata": {
        "id": "krXTGIWWXi_r",
        "colab_type": "text"
      },
      "source": [
        "We can see how removing parameters actually increased the adjusted R-squared whereas removing parameters decreased R-squared. This means these parameters were actually not useful to our model, and having them penalized our adjusted R-squared value. "
      ]
    },
    {
      "cell_type": "code",
      "metadata": {
        "id": "zD9lNC2UR0wH",
        "colab_type": "code",
        "outputId": "cf34e550-a08b-4229-e3fc-b19d9ae64aa3",
        "colab": {
          "base_uri": "https://localhost:8080/",
          "height": 281
        }
      },
      "source": [
        "#shows changes in R-squared and adjusted R-squared \n",
        "X = ['initial ','add loudness','add duration']\n",
        "Y = [R3,R2,R]\n",
        "Z = [aR3,aR2,aR]\n",
        "_X = np.arange(len(X))\n",
        "\n",
        "plt.bar(_X - 0.2, Y, 0.4)\n",
        "plt.bar(_X + 0.2, Z, 0.4)\n",
        "plt.xticks(_X, X) # set labels manually\n",
        "plt.title('Changes in R^2 and Adjusted R^2 as Variable Count Changes ')\n",
        "plt.legend(('R^2','adj R^2'), loc='upper left')\n",
        "plt.ylabel(\"Value\")\n",
        "plt.show()"
      ],
      "execution_count": 0,
      "outputs": [
        {
          "output_type": "display_data",
          "data": {
            "image/png": "[encoded data removed]",
            "text/plain": [
              "<Figure size 432x288 with 1 Axes>"
            ]
          },
          "metadata": {
            "tags": []
          }
        }
      ]
    },
    {
      "cell_type": "code",
      "metadata": {
        "id": "HRQsAKmVlYnT",
        "colab_type": "code",
        "outputId": "523961b5-9f18-45b5-f649-138410cf435d",
        "colab": {
          "base_uri": "https://localhost:8080/",
          "height": 298
        }
      },
      "source": [
        "X = ['initial ','add loudness','add duration']\n",
        "Y = [R3,R2,R]\n",
        "print(Y)\n",
        "_X = np.arange(len(X))\n",
        "\n",
        "plt.bar(_X - 0.2, Y, 0.4)\n",
        "plt.xticks(_X, X) # set labels manually\n",
        "plt.title('Changes in R^2 as Variable Count Increases  ')\n",
        "plt.legend(('R^2','adj R^2'), loc='upper left')\n",
        "plt.ylabel(\"Value\")\n",
        "plt.ylim([.1635, .164])\n",
        "plt.show()"
      ],
      "execution_count": 0,
      "outputs": [
        {
          "output_type": "stream",
          "text": [
            "[0.1635901836136768, 0.1636180115823238, 0.16381516680610708]\n"
          ],
          "name": "stdout"
        },
        {
          "output_type": "display_data",
          "data": {
            "image/png": "[encoded data removed]",
            "text/plain": [
              "<Figure size 432x288 with 1 Axes>"
            ]
          },
          "metadata": {
            "tags": []
          }
        }
      ]
    },
    {
      "cell_type": "code",
      "metadata": {
        "id": "fMMaHDlMq3-7",
        "colab_type": "code",
        "outputId": "d5392d06-8bb9-4f2e-d417-43f8fb2c53cc",
        "colab": {
          "base_uri": "https://localhost:8080/",
          "height": 298
        }
      },
      "source": [
        "X = ['initial ','add loudness','add duration']\n",
        "Y = [aR3,aR2,aR]\n",
        "print(Y)\n",
        "_X = np.arange(len(X))\n",
        "\n",
        "plt.bar(_X - 0.2, Y, 0.4)\n",
        "plt.xticks(_X, X) # set labels manually\n",
        "plt.title('Changes in R^2 as Variable Count Increases  ')\n",
        "plt.legend(('R^2','adj R^2'), loc='upper left')\n",
        "plt.ylabel(\"Value\")\n",
        "plt.show()"
      ],
      "execution_count": 0,
      "outputs": [
        {
          "output_type": "stream",
          "text": [
            "[0.05903895656538649, 0.04825497869712703, 0.03741513388144879]\n"
          ],
          "name": "stdout"
        },
        {
          "output_type": "display_data",
          "data": {
            "image/png": "[encoded data removed]",
            "text/plain": [
              "<Figure size 432x288 with 1 Axes>"
            ]
          },
          "metadata": {
            "tags": []
          }
        }
      ]
    },
    {
      "cell_type": "code",
      "metadata": {
        "id": "KNNGn3V2Ox80",
        "colab_type": "code",
        "outputId": "a7dd187e-0478-4d25-f4e1-1891c0257b77",
        "colab": {
          "base_uri": "https://localhost:8080/",
          "height": 51
        }
      },
      "source": [
        "X = data.iloc[:100,3:16]\n",
        "y = data.iloc[:100,16:]\n",
        "X = X[['liveness','loudness','key','tempo']]\n",
        "\n",
        "model = LinearRegression()\n",
        "model.fit(X, y)\n",
        "print(\"R-squared : \" + str(model.score(X, y))) #gives us the r squared using sklearn \n",
        "print(\"R-squared adjusted: \" + str(1 - (1-model.score(X, y))*(len(y)-1)/(len(y)-X.shape[1]-1)))"
      ],
      "execution_count": 0,
      "outputs": [
        {
          "output_type": "stream",
          "text": [
            "R-squared: 0.1325949764443045\n",
            "R-squared adjusted: 0.09607265966301204\n"
          ],
          "name": "stdout"
        }
      ]
    },
    {
      "cell_type": "markdown",
      "metadata": {
        "id": "y5J2bPGFUZBs",
        "colab_type": "text"
      },
      "source": [
        "# Mean Squared Error and Other Forms of Error"
      ]
    },
    {
      "cell_type": "markdown",
      "metadata": {
        "id": "ZGu5uU0HYePU",
        "colab_type": "text"
      },
      "source": [
        "To measure the model’s success, data scientists have developed error metrics to judge just how well the predicted and actual values match up. The difference between our expected and predicted values is called the set of residuals. Data scientists take this collection of residuals to compute a single condensed summary statistic. There are many of these summary statistics, however, we will go over Mean Squared Error, Mean Absolute Error, Root Mean Squared Error, Mean Absolute Percentage Error, and Mean Percentage Error."
      ]
    },
    {
      "cell_type": "code",
      "metadata": {
        "id": "mgYFRLxITPJ7",
        "colab_type": "code",
        "outputId": "2cd47e86-aac1-4be3-bff8-ec9f54fa4efb",
        "colab": {
          "base_uri": "https://localhost:8080/",
          "height": 272
        }
      },
      "source": [
        "## MSE and other forms of error\n",
        "\n",
        "data = pd.read_csv(\"top2018.csv\")\n",
        "rank = list(range(100))\n",
        "data['Rank'] = rank\n",
        "drop_cols = ['id','artists','danceability','energy','mode','speechiness','acousticness','instrumentalness','valence','duration_ms','time_signature']\n",
        "df = data.drop(drop_cols,axis=1)\n",
        "\n",
        "\n",
        "train_exp = df.iloc[:95,1:5]\n",
        "train_res = df.iloc[:95,5:]\n",
        "test_exp = df.iloc[95:,1:5]\n",
        "test_act = df.iloc[95:,5:]\n",
        "\n",
        "class MLR:\n",
        "  def __init__(self,w1,x1,y1,z1):\n",
        "    self.w1 = w1\n",
        "    self.x1 = x1\n",
        "    self.y1 = y1\n",
        "    self.z1 = z1\n",
        "    \n",
        "  def fit_pred(self):\n",
        "    LR = LinearRegression()\n",
        "    LR.fit(self.w1,self.x1)\n",
        "    return LR.predict(self.y1)\n",
        "  \n",
        "matr_exp = MLR(train_exp,train_res,test_exp,test_act)\n",
        "predicted = matr_exp.fit_pred()\n",
        "print('Actual Value')\n",
        "print(test_act)\n",
        "\n",
        "print('Predicted Value')\n",
        "print(predicted)\n",
        "\n",
        "mae = mean_absolute_error(test_act,predicted)#Mean Absolute Error\n",
        "print(mae)\n",
        "\n",
        "mse = mean_squared_error(test_act,predicted)#Mean Squared Error\n",
        "print(mse)"
      ],
      "execution_count": 0,
      "outputs": [
        {
          "output_type": "stream",
          "text": [
            "Actual Value\n",
            "    Rank\n",
            "95    95\n",
            "96    96\n",
            "97    97\n",
            "98    98\n",
            "99    99\n",
            "Predicted Value\n",
            "[[44.76377645]\n",
            " [54.70197095]\n",
            " [60.04882599]\n",
            " [49.14796191]\n",
            " [44.21427934]]\n",
            "46.424637073713164\n",
            "2196.5182870405965\n"
          ],
          "name": "stdout"
        }
      ]
    },
    {
      "cell_type": "code",
      "metadata": {
        "id": "yRU9hAtehvj2",
        "colab_type": "code",
        "colab": {}
      },
      "source": [
        "energy = data['energy'].values.reshape(-1,1)\n",
        "loudness = data['loudness'].values.reshape(-1,1)\n",
        "\n",
        "energy_train,energy_test,loudness_train,loudness_test = train_test_split(energy,loudness,test_size=0.2,random_state=0)\n",
        "\n",
        "regressor = LinearRegression()\n",
        "regressor.fit(energy_train,loudness_train)#training the algorithm\n",
        "\n",
        "loudness_pred = regressor.predict(energy_test)\n",
        "\n",
        "df = pd.DataFrame({'Actual': loudness_test.flatten(),'Predicted': loudness_pred.flatten()})\n",
        "\n",
        "df1 = df.head(25)\n",
        "df1.plot(kind='bar',figsize=(16,10))\n",
        "plt.grid(which='major', linestyle='-', linewidth='0.5', color='green')\n",
        "plt.grid(which='minor', linestyle=':', linewidth='0.5', color='black')\n",
        "plt.show()"
      ],
      "execution_count": 0,
      "outputs": []
    },
    {
      "cell_type": "code",
      "metadata": {
        "id": "jjtnbKcnhy6n",
        "colab_type": "code",
        "colab": {}
      },
      "source": [
        "plt.scatter(energy_test, loudness_test,  color='gray')\n",
        "plt.plot(energy_test, loudness_pred, color='red', linewidth=2)\n",
        "plt.show()"
      ],
      "execution_count": 0,
      "outputs": []
    },
    {
      "cell_type": "markdown",
      "metadata": {
        "id": "0xdjm-OZUi34",
        "colab_type": "text"
      },
      "source": [
        "**Mean Squared Error, Mean Absolute Error, Root Mean Squared Error**"
      ]
    },
    {
      "cell_type": "markdown",
      "metadata": {
        "id": "fLUMxVELagCK",
        "colab_type": "text"
      },
      "source": [
        "Mean Squared Error represents the average squared difference between the actual and predicted values.\n",
        "\n",
        "The Mean Absolute Error is one of the simplest error metrics. To arrive at the MAE, calculate the absolute value of each residual and average it out over the number of samples.\n",
        "\n",
        " The RMSE, or Root Mean Square Error, can be thought of as the standard deviation of the data. The purpose of taking the square root of the MSE is to make the scale (or unit) of the errors the same as that of the target (or response) variable.\n"
      ]
    },
    {
      "cell_type": "code",
      "metadata": {
        "id": "iorXvVz6h1fL",
        "colab_type": "code",
        "colab": {}
      },
      "source": [
        "print('Mean Absolute Error:', metrics.mean_absolute_error(loudness_test, loudness_pred))  \n",
        "print('Mean Squared Error:', metrics.mean_squared_error(loudness_test, loudness_pred))  \n",
        "print('Root Mean Squared Error:', np.sqrt(metrics.mean_squared_error(loudness_test, loudness_pred)))"
      ],
      "execution_count": 0,
      "outputs": []
    },
    {
      "cell_type": "markdown",
      "metadata": {
        "id": "4RFL_jZuZGj9",
        "colab_type": "text"
      },
      "source": [
        "**Mean Absolute Percentage Error, and Mean Percentage Error**"
      ]
    },
    {
      "cell_type": "markdown",
      "metadata": {
        "id": "ys8bC6jkZ7l3",
        "colab_type": "text"
      },
      "source": [
        "Mean Percentage Error (MPE) is similar to that of MAPE apart from the fact that it is missing the absolute value operation\n"
      ]
    },
    {
      "cell_type": "code",
      "metadata": {
        "id": "zXKxnFSAh4zA",
        "colab_type": "code",
        "colab": {}
      },
      "source": [
        "def mean_absolute_percentage_error(y_true, y_pred): \n",
        "    y_true, y_pred = np.array(y_true), np.array(y_pred)\n",
        "    return np.mean(np.abs((y_true - y_pred) / y_true)) * 100\n",
        "  \n",
        "\n",
        "  \n",
        "print('Mean Absolute Percentage Error:', mean_absolute_percentage_error(loudness_test, loudness_pred)) "
      ],
      "execution_count": 0,
      "outputs": []
    },
    {
      "cell_type": "code",
      "metadata": {
        "id": "HkQlTyIMh6jx",
        "colab_type": "code",
        "colab": {}
      },
      "source": [
        "def mean_percentage_error(y_true, y_pred): \n",
        "    y_true, y_pred = np.array(y_true), np.array(y_pred)\n",
        "    return np.mean((y_true - y_pred) / y_true) * 100\n",
        "  \n",
        "print('Mean Percentage Error:', mean_percentage_error(loudness_test, loudness_pred))"
      ],
      "execution_count": 0,
      "outputs": []
    },
    {
      "cell_type": "markdown",
      "metadata": {
        "id": "2kqq7WvuaLgY",
        "colab_type": "text"
      },
      "source": [
        "With MAPE and MAE, negative and positive errors are cancelled out. However, if there are more negative or positive errors, this bias will show up in the MPE. Thus, MPE shows if there is a systematic overestimate or underestimate.\n"
      ]
    },
    {
      "cell_type": "markdown",
      "metadata": {
        "id": "PHLMq0RDZN_N",
        "colab_type": "text"
      },
      "source": [
        ""
      ]
    },
    {
      "cell_type": "markdown",
      "metadata": {
        "id": "urVV5KEKUtnj",
        "colab_type": "text"
      },
      "source": [
        "# Akaike and Bayesian Information Criteria"
      ]
    },
    {
      "cell_type": "markdown",
      "metadata": {
        "id": "RBYqJZQLcMyx",
        "colab_type": "text"
      },
      "source": [
        "These two evaluators are used less often than error statistics and the coefficients of determination, but they are very helpful when it comes to comparing models.\n",
        "\n",
        "AIC and BIC both measure the quality of a model and accounts for both overfitting and underfitting models. The main difference between the two is the BIC favors parsimonious models, penalizing for complexity or the addition of more parameters similarly to the adjusted R-squared."
      ]
    },
    {
      "cell_type": "code",
      "metadata": {
        "id": "e_Grohj9zUCY",
        "colab_type": "code",
        "colab": {}
      },
      "source": [
        "\n",
        "data = pd.read_csv(\"top2018.csv\")\n",
        "del data['id']\n",
        "del data['name']\n",
        "del data['artists']\n",
        "popularity = range(1,101)\n",
        "data['popularity'] = popularity\n",
        "#creating different models to test \n",
        "data1 = data[['liveness','popularity']]\n",
        "data2 = data[['liveness','tempo','popularity']]\n",
        "data3 = data[['liveness','tempo','loudness','popularity']]\n",
        "data4 = data[['liveness','tempo','loudness','danceability','popularity']]\n",
        "data5 = data[['liveness','tempo','loudness','danceability','energy','popularity']]\n",
        "data6 = data[['liveness','tempo','loudness','danceability','energy','duration_ms','popularity']]\n",
        "data7 = data[['liveness','tempo','loudness','danceability','energy','duration_ms','valence','popularity']]\n",
        "data8 = data[['liveness','tempo','loudness','danceability','energy','duration_ms','valence','speechiness','popularity']]\n",
        "data9 = data[['liveness','tempo','loudness','danceability','energy','duration_ms','valence','speechiness','acousticness','popularity']]\n",
        "data10 = data[['liveness','tempo','loudness','danceability','energy','duration_ms','valence','speechiness','acousticness','instrumentalness','popularity']]\n",
        "data11 = data[['liveness','tempo','loudness','danceability','energy','duration_ms','valence','speechiness','acousticness','instrumentalness','key','popularity']]\n",
        "data12 = data[['liveness','tempo','loudness','danceability','energy','duration_ms','valence','speechiness','acousticness','instrumentalness','key','mode','popularity']]\n",
        "data13 = data[['liveness','tempo','loudness','danceability','energy','duration_ms','valence','speechiness','acousticness','instrumentalness','key','mode','time_signature','popularity']]\n"
      ],
      "execution_count": 0,
      "outputs": []
    },
    {
      "cell_type": "code",
      "metadata": {
        "id": "LrIC8jHtzd4z",
        "colab_type": "code",
        "colab": {}
      },
      "source": [
        "#function to calculate the Akaike Information Criterion\n",
        "def AICcalc(X):\n",
        "  y = X['popularity']\n",
        "  del X['popularity']\n",
        "  X_train, X_test, y_train, y_test = train_test_split(X, y, test_size=0.1) #takes training set\n",
        "  model = LinearRegression()\n",
        "  model.fit(X_train, y_train) #fits linear regression line to training data\n",
        "  inter = model.intercept_\n",
        "  betas = model.coef_\n",
        "  y_pred = model.predict(X_test) #predicts popularity of test data\n",
        "  residuals = y_test - y_pred #finds difference between actual popularity and predicted popularity\n",
        "  K= len(betas)\n",
        "  n= len(X_test)\n",
        "  AIC = float(n*math.log(sum(residuals**2)/n) + 2*K) #calculates AIC\n",
        "  X['popularity'] = popularity\n",
        "  return AIC\n",
        "\n",
        "#function to calculate Bayesian Information Criterion\n",
        "def BICcalc(X):\n",
        "  y = X['popularity']\n",
        "  del X['popularity']\n",
        "  X_train, X_test, y_train, y_test = train_test_split(X, y, test_size=0.1)\n",
        "  model = LinearRegression()\n",
        "  model.fit(X_train, y_train)\n",
        "  inter = model.intercept_\n",
        "  betas = model.coef_\n",
        "  y_pred = model.predict(X_test)\n",
        "  residuals = y_test - y_pred\n",
        "  K= len(betas)\n",
        "  n= len(X_test)\n",
        "  BIC = float(K*math.log(n) + n*math.log(sum(residuals**2)/n)) #calculates BIC\n",
        "  X['popularity'] = popularity\n",
        "  return BIC\n",
        "\n",
        "#function to repeat AIC and BIC calculation 10,000 times and find average\n",
        "#useful since the sample size is small so AIC and BIC are highly dependent on testing data\n",
        "def find_crit(X):\n",
        "  rep = 10000\n",
        "  totalA = 0\n",
        "  totalB = 0\n",
        "  for i in range(rep):\n",
        "    totalA += AICcalc(X)\n",
        "    totalB += BICcalc(X)\n",
        "    return [totalA,totalB]\n",
        "  avgAIC = totalA/rep\n",
        "  avgBIC = totalB/rep\n",
        "  return [avgAIC,avgBIC]"
      ],
      "execution_count": 0,
      "outputs": []
    },
    {
      "cell_type": "markdown",
      "metadata": {
        "id": "CPgvhZ1gVCd3",
        "colab_type": "text"
      },
      "source": [
        "**Visualizing Model **"
      ]
    },
    {
      "cell_type": "code",
      "metadata": {
        "id": "KVjuGX09zvcn",
        "colab_type": "code",
        "outputId": "8b171c87-24bd-4219-b678-70e9a62c2b85",
        "colab": {
          "base_uri": "https://localhost:8080/",
          "height": 295
        }
      },
      "source": [
        "alldata = [find_crit(data1),find_crit(data2),find_crit(data3),find_crit(data4),find_crit(data5),find_crit(data6),find_crit(data7),find_crit(data8),find_crit(data9),find_crit(data10),find_crit(data11),find_crit(data12),find_crit(data13)]\n",
        "\n",
        "criterion = pd.DataFrame(alldata, columns=['AIC','BIC'])\n",
        "criterion['Number of Parameters'] = range(1,14)\n",
        "\n",
        "allBIC = criterion[['BIC','Number of Parameters']]\n",
        "allBIC = allBIC.rename(index=str, columns={\"BIC\":\"Criterion\"} )\n",
        "allBIC['Type'] = 'BIC'\n",
        "allAIC = criterion[['AIC','Number of Parameters']]\n",
        "allAIC = allAIC.rename(index=str, columns={\"AIC\":\"Criterion\"} )\n",
        "allAIC['Type'] = 'AIC'\n",
        "crit = pd.concat([allBIC,allAIC])\n",
        "\n",
        "comparison = seaborn.lineplot(crit['Number of Parameters'], crit['Criterion'], hue=crit['Type']).set_title('AIC and BIC for Addition of Parameters')\n",
        "plt.savefig(\"comp.png\")"
      ],
      "execution_count": 0,
      "outputs": [
        {
          "output_type": "display_data",
          "data": {
            "image/png": "[encoded data removed]",
            "text/plain": [
              "<Figure size 432x288 with 1 Axes>"
            ]
          },
          "metadata": {
            "tags": []
          }
        }
      ]
    },
    {
      "cell_type": "markdown",
      "metadata": {
        "id": "G-n604UKclLv",
        "colab_type": "text"
      },
      "source": [
        "From the graph, it’s clear to see that the addition of parameters increases both the AIC and BIC, but that the likely best model has 3 parameters (liveness, loudness, and tempo)"
      ]
    },
    {
      "cell_type": "code",
      "metadata": {
        "id": "Nm4F_nh72F1F",
        "colab_type": "code",
        "outputId": "d073cb55-5587-49d6-dbc7-2b77b611eb79",
        "colab": {
          "base_uri": "https://localhost:8080/",
          "height": 300
        }
      },
      "source": [
        "seaborn.barplot(x=\"Number of Parameters\", y=\"Criterion\",hue=\"Type\", data=crit)"
      ],
      "execution_count": 0,
      "outputs": [
        {
          "output_type": "execute_result",
          "data": {
            "text/plain": [
              "<matplotlib.axes._subplots.AxesSubplot at 0x7f10866d3f98>"
            ]
          },
          "metadata": {
            "tags": []
          },
          "execution_count": 65
        },
        {
          "output_type": "display_data",
          "data": {
            "image/png": "[encoded data removed]",
            "text/plain": [
              "<Figure size 432x288 with 1 Axes>"
            ]
          },
          "metadata": {
            "tags": []
          }
        }
      ]
    }
  ]
}